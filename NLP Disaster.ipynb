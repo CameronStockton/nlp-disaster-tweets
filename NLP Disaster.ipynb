{
 "cells": [
  {
   "cell_type": "code",
   "execution_count": null,
   "id": "39b4a620-8e8a-4881-9c62-25828c58f169",
   "metadata": {},
   "outputs": [],
   "source": [
    "#!pip install nltk\n",
    "#!pip install re"
   ]
  },
  {
   "cell_type": "code",
   "execution_count": 38,
   "id": "f1f0cabc-adcb-4232-aa71-93cf57b9708f",
   "metadata": {},
   "outputs": [],
   "source": [
    "import pandas as pd\n",
    "import numpy as np\n",
    "from PIL import Image\n",
    "import matplotlib.pyplot as plt\n",
    "import os\n",
    "\n",
    "import tensorflow as tf\n",
    "from sklearn.model_selection import train_test_split\n",
    "from tensorflow.keras.models import Sequential\n",
    "from tensorflow.keras.layers import Embedding, LSTM, Dense, Dropout\n",
    "from keras.optimizers import Adam\n",
    "from keras.regularizers import l2\n",
    "from keras.callbacks import EarlyStopping\n",
    "import keras_tuner as kt\n",
    "\n",
    "from tensorflow.keras.preprocessing.text import Tokenizer\n",
    "from tensorflow.keras.preprocessing.sequence import pad_sequences\n",
    "\n",
    "import re\n",
    "import nltk\n",
    "from nltk.corpus import stopwords\n",
    "from nltk.tokenize import word_tokenize\n",
    "from sklearn.feature_extraction.text import TfidfVectorizer"
   ]
  },
  {
   "cell_type": "markdown",
   "id": "c24d7958-fd5b-48b0-9a7a-5e4fa23e2cdd",
   "metadata": {},
   "source": [
    "## Brief description of the problem and data (5 pts)\n",
    "### \r\n",
    "Briefly describe the challenge problem and NLP. Describe the size, dimension, structure, etc., of the data. "
   ]
  },
  {
   "cell_type": "markdown",
   "id": "50c8af4a-045a-47f0-98c1-3ef97839ed66",
   "metadata": {},
   "source": [
    "We must identify whether tweets with \"disaster\" words are appropriately disasters given contextual information. The data consists of 7613 training tweets all hand labelled, with features keyword, location, text along with 3263 test tweets"
   ]
  },
  {
   "cell_type": "markdown",
   "id": "4bb42743-cf36-4de7-9c74-4977d7265efc",
   "metadata": {},
   "source": [
    "## Exploratory Data Analysis (EDA) — Inspect, Visualize and Clean the Data (15 pts)\n",
    "\n",
    "### Show a few visualizations like histograms. Describe any data cleaning procedures. Based on your EDA, what is your plan of analysis? "
   ]
  },
  {
   "cell_type": "markdown",
   "id": "6ce5ffdf-7978-4336-8677-e9bc7a1ca1cc",
   "metadata": {},
   "source": [
    "I first will clean the text with the help of nltk and regex. I am removing links, special characters, etc. to make the data tokenizable. Once it is tokenizable, i will use a tokenizer and then vectorize and pad the sequences. After that it should be ready to go."
   ]
  },
  {
   "cell_type": "code",
   "execution_count": 24,
   "id": "61e0f461-7833-4d9a-8b70-530dbfc20b98",
   "metadata": {},
   "outputs": [
    {
     "data": {
      "text/html": [
       "<div>\n",
       "<style scoped>\n",
       "    .dataframe tbody tr th:only-of-type {\n",
       "        vertical-align: middle;\n",
       "    }\n",
       "\n",
       "    .dataframe tbody tr th {\n",
       "        vertical-align: top;\n",
       "    }\n",
       "\n",
       "    .dataframe thead th {\n",
       "        text-align: right;\n",
       "    }\n",
       "</style>\n",
       "<table border=\"1\" class=\"dataframe\">\n",
       "  <thead>\n",
       "    <tr style=\"text-align: right;\">\n",
       "      <th></th>\n",
       "      <th>id</th>\n",
       "      <th>target</th>\n",
       "    </tr>\n",
       "  </thead>\n",
       "  <tbody>\n",
       "    <tr>\n",
       "      <th>count</th>\n",
       "      <td>7613.000000</td>\n",
       "      <td>7613.00000</td>\n",
       "    </tr>\n",
       "    <tr>\n",
       "      <th>mean</th>\n",
       "      <td>5441.934848</td>\n",
       "      <td>0.42966</td>\n",
       "    </tr>\n",
       "    <tr>\n",
       "      <th>std</th>\n",
       "      <td>3137.116090</td>\n",
       "      <td>0.49506</td>\n",
       "    </tr>\n",
       "    <tr>\n",
       "      <th>min</th>\n",
       "      <td>1.000000</td>\n",
       "      <td>0.00000</td>\n",
       "    </tr>\n",
       "    <tr>\n",
       "      <th>25%</th>\n",
       "      <td>2734.000000</td>\n",
       "      <td>0.00000</td>\n",
       "    </tr>\n",
       "    <tr>\n",
       "      <th>50%</th>\n",
       "      <td>5408.000000</td>\n",
       "      <td>0.00000</td>\n",
       "    </tr>\n",
       "    <tr>\n",
       "      <th>75%</th>\n",
       "      <td>8146.000000</td>\n",
       "      <td>1.00000</td>\n",
       "    </tr>\n",
       "    <tr>\n",
       "      <th>max</th>\n",
       "      <td>10873.000000</td>\n",
       "      <td>1.00000</td>\n",
       "    </tr>\n",
       "  </tbody>\n",
       "</table>\n",
       "</div>"
      ],
      "text/plain": [
       "                 id      target\n",
       "count   7613.000000  7613.00000\n",
       "mean    5441.934848     0.42966\n",
       "std     3137.116090     0.49506\n",
       "min        1.000000     0.00000\n",
       "25%     2734.000000     0.00000\n",
       "50%     5408.000000     0.00000\n",
       "75%     8146.000000     1.00000\n",
       "max    10873.000000     1.00000"
      ]
     },
     "execution_count": 24,
     "metadata": {},
     "output_type": "execute_result"
    }
   ],
   "source": [
    "train_df = pd.read_csv('./train.csv')\n",
    "train_df.describe()"
   ]
  },
  {
   "cell_type": "code",
   "execution_count": 3,
   "id": "31803df3-a605-4725-bd69-9e730a204ec1",
   "metadata": {},
   "outputs": [
    {
     "name": "stderr",
     "output_type": "stream",
     "text": [
      "[nltk_data] Downloading package punkt to\n",
      "[nltk_data]     C:\\Users\\Cameron\\AppData\\Roaming\\nltk_data...\n",
      "[nltk_data]   Package punkt is already up-to-date!\n",
      "[nltk_data] Downloading package stopwords to\n",
      "[nltk_data]     C:\\Users\\Cameron\\AppData\\Roaming\\nltk_data...\n",
      "[nltk_data]   Package stopwords is already up-to-date!\n"
     ]
    },
    {
     "name": "stdout",
     "output_type": "stream",
     "text": [
      "                                                text  \\\n",
      "0  Our Deeds are the Reason of this #earthquake M...   \n",
      "1             Forest fire near La Ronge Sask. Canada   \n",
      "2  All residents asked to 'shelter in place' are ...   \n",
      "3  13,000 people receive #wildfires evacuation or...   \n",
      "4  Just got sent this photo from Ruby #Alaska as ...   \n",
      "\n",
      "                                   preprocessed_text  \n",
      "0  [deeds, reason, earthquake, may, allah, forgiv...  \n",
      "1      [forest, fire, near, la, ronge, sask, canada]  \n",
      "2  [residents, asked, shelter, place, notified, o...  \n",
      "3  [13000, people, receive, wildfires, evacuation...  \n",
      "4  [got, sent, photo, ruby, alaska, smoke, wildfi...  \n"
     ]
    }
   ],
   "source": [
    "nltk.download('punkt')\n",
    "nltk.download('stopwords')\n",
    "\n",
    "stop_words = set(stopwords.words('english'))\n",
    "\n",
    "def clean_text(text):\n",
    "    text = re.sub(r'http\\S+', '', text)\n",
    "    text = re.sub(r'<.*?>', '', text)\n",
    "    text = text.lower()\n",
    "    text = re.sub(r'[^\\w\\s]', '', text)\n",
    "    return text\n",
    "\n",
    "def preprocess_text(text):\n",
    "    text = clean_text(text)\n",
    "    words = word_tokenize(text)\n",
    "    return [word for word in words if word not in stop_words]\n",
    "\n",
    "train_df['preprocessed_text'] = train_df['text'].apply(preprocess_text)\n",
    "\n",
    "print(train_df[['text', 'preprocessed_text']].head())"
   ]
  },
  {
   "cell_type": "code",
   "execution_count": 4,
   "id": "3ba06d7c-079c-42b2-ae9f-3ed310b043a0",
   "metadata": {},
   "outputs": [
    {
     "name": "stdout",
     "output_type": "stream",
     "text": [
      "Found 18011 unique tokens.\n"
     ]
    }
   ],
   "source": [
    "tokenizer = Tokenizer()\n",
    "tokenizer.fit_on_texts(train_df['preprocessed_text'].apply(lambda x: ' '.join(x)))\n",
    "\n",
    "sequences = tokenizer.texts_to_sequences(train_df['preprocessed_text'].apply(lambda x: ' '.join(x)))\n",
    "\n",
    "word_index = tokenizer.word_index\n",
    "print(f\"Found {len(word_index)} unique tokens.\")"
   ]
  },
  {
   "cell_type": "code",
   "execution_count": 5,
   "id": "f710fda3-c6e1-48a6-b56e-fbb0dd818be4",
   "metadata": {},
   "outputs": [
    {
     "name": "stdout",
     "output_type": "stream",
     "text": [
      "18011\n"
     ]
    }
   ],
   "source": [
    "max_length = max(len(x) for x in sequences)\n",
    "print(len(word_index))\n",
    "padded_sequences = pad_sequences(sequences, maxlen=max_length)"
   ]
  },
  {
   "cell_type": "code",
   "execution_count": 6,
   "id": "fa836713-3b35-444c-b7df-2251d18ed492",
   "metadata": {},
   "outputs": [
    {
     "name": "stdout",
     "output_type": "stream",
     "text": [
      "(6090, 25)\n"
     ]
    }
   ],
   "source": [
    "X_train, X_val, y_train, y_val = train_test_split(padded_sequences, train_df['target'], test_size=0.2, random_state=0)\n",
    "print(X_train.shape)"
   ]
  },
  {
   "cell_type": "markdown",
   "id": "46545ed1-a3dc-46a1-8855-30a154ebc1ee",
   "metadata": {},
   "source": [
    "## Model Architecture (25 pts)\n",
    "\n",
    "#### Describe your model architecture and reasoning for why you believe that specific architecture would be suitable for this problem. \n",
    "\n",
    "#### Since we did not learn NLP-specific techniques such as word embeddings in the lectures, we recommend looking at Kaggle tutorials, discussion boards, and code examples posted for this challenge.  You can use any resources needed, but make sure you “demonstrate” you understood by including explanations in your own words. Also importantly, please have a reference list at the end of the report.  \n",
    "\n",
    "#### There are many methods to process texts to matrix form (word embedding), including TF-IDF, GloVe, Word2Vec, etc. Pick a strategy and process the raw texts to word embedding. Briefly explain the method(s) and how they work in your own words.\n",
    "\n",
    "#### Build and train your sequential neural network model (You may use any RNN family neural network, including advanced architectures LSTM, GRU, bidirectional RNN, etc.). "
   ]
  },
  {
   "cell_type": "markdown",
   "id": "e08d1d0e-a9b0-48b0-859f-653b37b3bbb9",
   "metadata": {},
   "source": [
    "We learned about RNN's and I am interested to see how LSTM's work, regardless of whether they are the best in this case so i will be using that. I used Keras's Documentation to learn how to implement LSTM's"
   ]
  },
  {
   "cell_type": "code",
   "execution_count": 31,
   "id": "f2953f8a-bb42-4e75-950d-cc9036a8e1c2",
   "metadata": {},
   "outputs": [
    {
     "name": "stdout",
     "output_type": "stream",
     "text": [
      "Model: \"sequential_8\"\n",
      "_________________________________________________________________\n",
      " Layer (type)                Output Shape              Param #   \n",
      "=================================================================\n",
      " embedding_8 (Embedding)     (None, 25, 300)           5403600   \n",
      "                                                                 \n",
      " lstm_9 (LSTM)               (None, 2)                 2424      \n",
      "                                                                 \n",
      " dense_7 (Dense)             (None, 1)                 3         \n",
      "                                                                 \n",
      "=================================================================\n",
      "Total params: 5406027 (20.62 MB)\n",
      "Trainable params: 5406027 (20.62 MB)\n",
      "Non-trainable params: 0 (0.00 Byte)\n",
      "_________________________________________________________________\n"
     ]
    }
   ],
   "source": [
    "# Model parameters\n",
    "vocab_size = len(word_index) + 1\n",
    "embed_size = 300\n",
    "\n",
    "model = Sequential()\n",
    "model.add(Embedding(vocab_size, embed_size, input_length=max_length))\n",
    "model.add(LSTM(2, dropout=0.5, recurrent_dropout=0.5))\n",
    "model.add(Dense(1, activation='sigmoid'))\n",
    "\n",
    "model.compile(optimizer='adam', loss='binary_crossentropy', metrics=['accuracy'])\n",
    "model.summary()"
   ]
  },
  {
   "cell_type": "code",
   "execution_count": 32,
   "id": "571dca1d-7d26-416b-9329-ebb575f13dbd",
   "metadata": {},
   "outputs": [
    {
     "name": "stdout",
     "output_type": "stream",
     "text": [
      "Epoch 1/20\n",
      "191/191 [==============================] - 9s 35ms/step - loss: 0.6141 - accuracy: 0.7071 - val_loss: 0.5257 - val_accuracy: 0.7833\n",
      "Epoch 2/20\n",
      "191/191 [==============================] - 6s 34ms/step - loss: 0.3937 - accuracy: 0.8686 - val_loss: 0.4719 - val_accuracy: 0.7905\n",
      "Epoch 3/20\n",
      "191/191 [==============================] - 6s 34ms/step - loss: 0.2324 - accuracy: 0.9337 - val_loss: 0.5006 - val_accuracy: 0.7781\n",
      "Epoch 4/20\n",
      "191/191 [==============================] - 6s 34ms/step - loss: 0.1502 - accuracy: 0.9593 - val_loss: 0.5350 - val_accuracy: 0.7814\n",
      "Epoch 5/20\n",
      "191/191 [==============================] - 7s 34ms/step - loss: 0.1071 - accuracy: 0.9709 - val_loss: 0.5788 - val_accuracy: 0.7708\n",
      "Epoch 6/20\n",
      "191/191 [==============================] - 6s 34ms/step - loss: 0.0836 - accuracy: 0.9780 - val_loss: 0.6140 - val_accuracy: 0.7781\n",
      "Epoch 7/20\n",
      "191/191 [==============================] - 7s 34ms/step - loss: 0.0715 - accuracy: 0.9791 - val_loss: 0.6496 - val_accuracy: 0.7656\n",
      "Epoch 8/20\n",
      "191/191 [==============================] - 7s 34ms/step - loss: 0.0618 - accuracy: 0.9800 - val_loss: 0.6810 - val_accuracy: 0.7649\n",
      "Epoch 9/20\n",
      "191/191 [==============================] - 7s 34ms/step - loss: 0.0544 - accuracy: 0.9824 - val_loss: 0.7073 - val_accuracy: 0.7636\n",
      "Epoch 10/20\n",
      "191/191 [==============================] - 7s 35ms/step - loss: 0.0510 - accuracy: 0.9824 - val_loss: 0.7211 - val_accuracy: 0.7636\n",
      "Epoch 11/20\n",
      "191/191 [==============================] - 7s 35ms/step - loss: 0.0456 - accuracy: 0.9826 - val_loss: 0.7391 - val_accuracy: 0.7630\n",
      "Epoch 12/20\n",
      "191/191 [==============================] - 7s 34ms/step - loss: 0.0452 - accuracy: 0.9824 - val_loss: 0.7670 - val_accuracy: 0.7649\n",
      "Epoch 13/20\n",
      "191/191 [==============================] - 7s 34ms/step - loss: 0.0432 - accuracy: 0.9837 - val_loss: 0.7814 - val_accuracy: 0.7682\n",
      "Epoch 14/20\n",
      "191/191 [==============================] - 7s 34ms/step - loss: 0.0411 - accuracy: 0.9837 - val_loss: 0.7924 - val_accuracy: 0.7630\n",
      "Epoch 15/20\n",
      "191/191 [==============================] - 7s 35ms/step - loss: 0.0391 - accuracy: 0.9839 - val_loss: 0.8177 - val_accuracy: 0.7708\n",
      "Epoch 16/20\n",
      "191/191 [==============================] - 7s 34ms/step - loss: 0.0362 - accuracy: 0.9852 - val_loss: 0.8287 - val_accuracy: 0.7643\n",
      "Epoch 17/20\n",
      "191/191 [==============================] - 6s 34ms/step - loss: 0.0372 - accuracy: 0.9846 - val_loss: 0.8428 - val_accuracy: 0.7682\n",
      "Epoch 18/20\n",
      "191/191 [==============================] - 7s 34ms/step - loss: 0.0360 - accuracy: 0.9849 - val_loss: 0.8577 - val_accuracy: 0.7656\n",
      "Epoch 19/20\n",
      "191/191 [==============================] - 6s 34ms/step - loss: 0.0359 - accuracy: 0.9846 - val_loss: 0.8771 - val_accuracy: 0.7663\n",
      "Epoch 20/20\n",
      "191/191 [==============================] - 7s 35ms/step - loss: 0.0345 - accuracy: 0.9841 - val_loss: 0.8910 - val_accuracy: 0.7636\n"
     ]
    }
   ],
   "source": [
    "history = model.fit(X_train, y_train, epochs=20, batch_size=32, validation_data=(X_val, y_val))"
   ]
  },
  {
   "cell_type": "code",
   "execution_count": 30,
   "id": "265cd59d-d0ca-4946-ad55-640fb484319b",
   "metadata": {},
   "outputs": [
    {
     "name": "stdout",
     "output_type": "stream",
     "text": [
      "48/48 [==============================] - 0s 2ms/step - loss: 0.7897 - accuracy: 0.7735\n",
      "Validation Loss: 0.7896914482116699\n",
      "Validation Accuracy: 0.7734733819961548\n"
     ]
    }
   ],
   "source": [
    "loss, accuracy = model.evaluate(X_val, y_val)\n",
    "print(f\"Validation Loss: {loss}\")\n",
    "print(f\"Validation Accuracy: {accuracy}\")"
   ]
  },
  {
   "cell_type": "code",
   "execution_count": null,
   "id": "3d9d4276-0e2e-4de7-b655-f34310526f0b",
   "metadata": {},
   "outputs": [],
   "source": [
    "print(tf.__version__)\n"
   ]
  },
  {
   "cell_type": "markdown",
   "id": "74491895-07e8-49b3-aa75-7787fa85de40",
   "metadata": {},
   "source": [
    "Training Notes:\n",
    "- Model is too complex at 1 layer 128 neurons"
   ]
  },
  {
   "cell_type": "markdown",
   "id": "67a861fa-293a-427a-9841-7265be050f4a",
   "metadata": {},
   "source": [
    "## Results and Analysis (35 pts)\n",
    "\n",
    "#### Run hyperparameter tuning, try different architectures for comparison, apply techniques to improve training or performance, and discuss what helped.\n",
    "\n",
    "#### Includes results with tables and figures. There is an analysis of why or why not something worked well, troubleshooting, and a hyperparameter optimization procedure summary."
   ]
  },
  {
   "cell_type": "code",
   "execution_count": null,
   "id": "ff539272-6480-4dc4-887d-2ff47a0ef64f",
   "metadata": {},
   "outputs": [],
   "source": [
    "Because the model is quick to train i want to run a small learning rate and many epochs to help convergence"
   ]
  },
  {
   "cell_type": "code",
   "execution_count": 45,
   "id": "25f7392f-b8c3-4cd0-9efc-cf1b6bbb8e71",
   "metadata": {},
   "outputs": [],
   "source": [
    "early_stopping = EarlyStopping(\n",
    "    monitor='val_loss',\n",
    "    min_delta=0.0004,\n",
    "    patience=10,\n",
    "    restore_best_weights=True,\n",
    "    mode='min'\n",
    ")"
   ]
  },
  {
   "cell_type": "code",
   "execution_count": 39,
   "id": "45a039d9-8d5d-4d6b-b613-a1721fc8c083",
   "metadata": {},
   "outputs": [],
   "source": [
    "def tuning_model(hp):\n",
    "    model = Sequential()\n",
    "    model.add(Embedding(input_dim=vocab_size, \n",
    "                        output_dim=hp.Int('embed_size', min_value = 10, max_value = 1010, step=500),\n",
    "                        input_length=max_length))\n",
    "    model.add(LSTM(units=hp.Int('units', min_value=4, max_value=16, step=4), \n",
    "                   dropout=hp.Float('dropout', min_value=0.2, max_value=0.5, step=0.1)))\n",
    "    model.add(Dense(1, activation='sigmoid'))\n",
    "    \n",
    "    model.compile(optimizer=tf.keras.optimizers.Adam(learning_rate=hp.Choice('learning_rate', values=[0.001, 0.0001, 0.0005])), loss='binary_crossentropy', metrics=['accuracy'])\n",
    "\n",
    "    return model"
   ]
  },
  {
   "cell_type": "code",
   "execution_count": 40,
   "id": "1a6b835e-e6cf-4dd4-8940-69d6d13034b1",
   "metadata": {},
   "outputs": [
    {
     "name": "stdout",
     "output_type": "stream",
     "text": [
      "Trial 50 Complete [00h 03m 27s]\n",
      "val_accuracy: 0.7990807890892029\n",
      "\n",
      "Best val_accuracy So Far: 0.8063033223152161\n",
      "Total elapsed time: 01h 33m 35s\n",
      "\n",
      "The hyperparameter search is complete. The optimal number of units in the first LSTM layer is 16,\n",
      "and the optimal dropout rate is 0.4.\n",
      "\n"
     ]
    }
   ],
   "source": [
    "tuner = kt.RandomSearch(tuning_model,\n",
    "                        objective='val_accuracy',\n",
    "                        max_trials=50,\n",
    "                        executions_per_trial=1,\n",
    "                        directory='./tuning_results',\n",
    "                        project_name='lstm_random_search')\n",
    "\n",
    "tuner.search(X_train, y_train, epochs=10, validation_data=(X_val, y_val))\n",
    "\n",
    "\n",
    "best_hps = tuner.get_best_hyperparameters(num_trials=1)[0]\n",
    "print(f\"\"\"\n",
    "The hyperparameter search is complete. The optimal number of units in the first LSTM layer is {best_hps.get('units')},\n",
    "and the optimal dropout rate is {best_hps.get('dropout')}.\n",
    "\"\"\")"
   ]
  },
  {
   "cell_type": "code",
   "execution_count": 42,
   "id": "7e9d4caa-c460-472d-9529-acf47c4ad105",
   "metadata": {},
   "outputs": [
    {
     "data": {
      "image/png": "[encoded data removed]",
      "text/plain": [
       "<Figure size 1000x600 with 1 Axes>"
      ]
     },
     "metadata": {},
     "output_type": "display_data"
    }
   ],
   "source": [
    "trials = tuner.oracle.get_best_trials(num_trials=tuner.oracle.max_trials)\n",
    "\n",
    "trial_ids = [trial.trial_id for trial in trials]\n",
    "val_accuracies = [trial.metrics.get_best_value('val_accuracy') for trial in trials]\n",
    "\n",
    "plt.figure(figsize=(10, 6))\n",
    "plt.plot(trial_ids, val_accuracies, marker='o')\n",
    "plt.title('Validation Accuracy for Each Trial')\n",
    "plt.xlabel('Trial ID')\n",
    "plt.ylabel('Best Validation Accuracy')\n",
    "plt.xticks(rotation=45)\n",
    "plt.show()"
   ]
  },
  {
   "cell_type": "markdown",
   "id": "d8d01d80-d1b7-4b78-997f-6611cf52725b",
   "metadata": {},
   "source": [
    "A very small neural network was good for this project to reduce overfitting. Unfortunately the model itself does not perform the best"
   ]
  },
  {
   "cell_type": "code",
   "execution_count": 46,
   "id": "1ae95185-6e51-44b2-bebf-fb807ccdb50f",
   "metadata": {},
   "outputs": [
    {
     "name": "stdout",
     "output_type": "stream",
     "text": [
      "Epoch 1/150\n",
      "191/191 [==============================] - 3s 8ms/step - loss: 0.6773 - accuracy: 0.5675 - val_loss: 0.6565 - val_accuracy: 0.5817\n",
      "Epoch 2/150\n",
      "191/191 [==============================] - 1s 6ms/step - loss: 0.5850 - accuracy: 0.7056 - val_loss: 0.5348 - val_accuracy: 0.7643\n",
      "Epoch 3/150\n",
      "191/191 [==============================] - 1s 5ms/step - loss: 0.4117 - accuracy: 0.8358 - val_loss: 0.4836 - val_accuracy: 0.7873\n",
      "Epoch 4/150\n",
      "191/191 [==============================] - 1s 5ms/step - loss: 0.3119 - accuracy: 0.8777 - val_loss: 0.4712 - val_accuracy: 0.7886\n",
      "Epoch 5/150\n",
      "191/191 [==============================] - 1s 5ms/step - loss: 0.2421 - accuracy: 0.9095 - val_loss: 0.5012 - val_accuracy: 0.7682\n",
      "Epoch 6/150\n",
      "191/191 [==============================] - 1s 5ms/step - loss: 0.1986 - accuracy: 0.9281 - val_loss: 0.5147 - val_accuracy: 0.7866\n",
      "Epoch 7/150\n",
      "191/191 [==============================] - 1s 5ms/step - loss: 0.1603 - accuracy: 0.9427 - val_loss: 0.5486 - val_accuracy: 0.7787\n",
      "Epoch 8/150\n",
      "191/191 [==============================] - 1s 5ms/step - loss: 0.1322 - accuracy: 0.9593 - val_loss: 0.6058 - val_accuracy: 0.7794\n",
      "Epoch 9/150\n",
      "191/191 [==============================] - 1s 5ms/step - loss: 0.1217 - accuracy: 0.9594 - val_loss: 0.6097 - val_accuracy: 0.7702\n",
      "Epoch 10/150\n",
      "191/191 [==============================] - 1s 5ms/step - loss: 0.1041 - accuracy: 0.9637 - val_loss: 0.6281 - val_accuracy: 0.7669\n",
      "Epoch 11/150\n",
      "191/191 [==============================] - 1s 5ms/step - loss: 0.0931 - accuracy: 0.9690 - val_loss: 0.7278 - val_accuracy: 0.7557\n",
      "Epoch 12/150\n",
      "191/191 [==============================] - 1s 5ms/step - loss: 0.0892 - accuracy: 0.9713 - val_loss: 0.6451 - val_accuracy: 0.7728\n",
      "Epoch 13/150\n",
      "191/191 [==============================] - 1s 5ms/step - loss: 0.0774 - accuracy: 0.9721 - val_loss: 0.6833 - val_accuracy: 0.7695\n",
      "Epoch 14/150\n",
      "191/191 [==============================] - 1s 5ms/step - loss: 0.0773 - accuracy: 0.9729 - val_loss: 0.6697 - val_accuracy: 0.7800\n",
      "48/48 [==============================] - 0s 1ms/step - loss: 0.4712 - accuracy: 0.7886\n",
      "Validation Loss: 0.4711942970752716\n",
      "Validation Accuracy: 0.7885751724243164\n"
     ]
    }
   ],
   "source": [
    "tuned_model = tuning_model(best_hps)\n",
    "tuned_model_history = tuned_model.fit(\n",
    "    X_train, y_train,\n",
    "    batch_size=32,\n",
    "    epochs=150,\n",
    "    validation_data=(X_val, y_val),\n",
    "    shuffle=True,\n",
    "    callbacks=[early_stopping]\n",
    ")\n",
    "\n",
    "tuned_model_val_loss, tuned_model_val_accuracy = tuned_model.evaluate(X_val, y_val)\n",
    "print(f'Validation Loss: {tuned_model_val_loss}')\n",
    "print(f'Validation Accuracy: {tuned_model_val_accuracy}')"
   ]
  },
  {
   "cell_type": "code",
   "execution_count": 53,
   "id": "7dc195af-b189-4a03-a030-3f2e8cbca391",
   "metadata": {},
   "outputs": [
    {
     "name": "stdout",
     "output_type": "stream",
     "text": [
      "Found 10606 unique tokens.\n",
      "10606\n",
      "102/102 [==============================] - 0s 1ms/step\n"
     ]
    }
   ],
   "source": [
    "#test data\n",
    "test_df = pd.read_csv('./test.csv')\n",
    "\n",
    "test_df['preprocessed_text'] = test_df['text'].apply(preprocess_text)\n",
    "\n",
    "test_tokenizer = Tokenizer()\n",
    "test_tokenizer.fit_on_texts(test_df['preprocessed_text'].apply(lambda x: ' '.join(x)))\n",
    "\n",
    "test_sequences = test_tokenizer.texts_to_sequences(test_df['preprocessed_text'].apply(lambda x: ' '.join(x)))\n",
    "\n",
    "test_word_index = test_tokenizer.word_index\n",
    "print(f\"Found {len(test_word_index)} unique tokens.\")\n",
    "\n",
    "test_max_length = max(len(x) for x in test_sequences)\n",
    "print(len(test_word_index))\n",
    "test_padded_sequences = pad_sequences(test_sequences, maxlen=test_max_length+2) #max length is 23 but i need 25 for model\n",
    "\n",
    "label_pred = tuned_model.predict(test_padded_sequences)\n",
    "\n",
    "test_predictions = pd.DataFrame({\n",
    "    'id': test_df['id'],\n",
    "    'target': np.around(label_pred.flatten())\n",
    "})\n",
    "\n",
    "test_predictions.to_csv('./submission_final.csv', index=False)"
   ]
  },
  {
   "cell_type": "code",
   "execution_count": null,
   "id": "e5690037-abaf-49fd-bd88-c75b74f7e7fd",
   "metadata": {},
   "outputs": [],
   "source": [
    "tuned_model_val_loss, tuned_model_val_accuracy = tuned_model.evaluate(X_val, y_val)\n",
    "print(f'Validation Loss: {tuned_model_val_loss}')\n",
    "print(f'Validation Accuracy: {tuned_model_val_accuracy}')"
   ]
  },
  {
   "cell_type": "markdown",
   "id": "87c0d052-b7e2-4ddb-8d5e-806d4e7f0188",
   "metadata": {},
   "source": [
    "## Conclusion (15 pts)\r\n",
    "#### \r\n",
    "Discuss and interpret results as well as learnings and takeaways. What did and did not help improve the performance of your models? What improvements could you try in the future?"
   ]
  },
  {
   "cell_type": "markdown",
   "id": "3a788198-2fc3-4279-b88e-99e51631c814",
   "metadata": {},
   "source": [
    "Not much actually improved the performance of my model, and it was hard to avoid overfitting. In the future i'd like to try doing some data augmentation to paraphrase and replace words to increase vocabulary. I think this will add complexity and be able to generalize to the test data better."
   ]
  },
  {
   "cell_type": "code",
   "execution_count": null,
   "id": "0660b5aa-d2c1-41dd-a611-4f8a4ebec214",
   "metadata": {},
   "outputs": [],
   "source": []
  },
  {
   "cell_type": "markdown",
   "id": "f897cf7d-9a30-4863-be5c-50dc10999b59",
   "metadata": {},
   "source": [
    "## Reference's:\n",
    "\n",
    "- https://www.nltk.org/api/nltk.html\n",
    "- https://keras.io/api/"
   ]
  },
  {
   "cell_type": "code",
   "execution_count": null,
   "id": "70d2d56d-30ac-45f5-92db-5fc4a5e1ae97",
   "metadata": {},
   "outputs": [],
   "source": []
  },
  {
   "cell_type": "code",
   "execution_count": null,
   "id": "acd99238-3a75-4a73-93e1-426c64505ef4",
   "metadata": {},
   "outputs": [],
   "source": []
  },
  {
   "cell_type": "code",
   "execution_count": null,
   "id": "dbb72a73-decd-441f-ad10-2e7665c76388",
   "metadata": {},
   "outputs": [],
   "source": []
  },
  {
   "cell_type": "code",
   "execution_count": null,
   "id": "80d08bce-b38b-4161-b09f-9a909baf527e",
   "metadata": {},
   "outputs": [],
   "source": []
  },
  {
   "cell_type": "code",
   "execution_count": null,
   "id": "49f12290-42b4-4545-8e5c-ef1a29d66583",
   "metadata": {},
   "outputs": [],
   "source": []
  },
  {
   "cell_type": "markdown",
   "id": "df9af3a8-68fb-4e0b-a82f-85305e5b344f",
   "metadata": {},
   "source": []
  },
  {
   "cell_type": "code",
   "execution_count": null,
   "id": "56940344-1a34-4571-8014-d5827c1b0f58",
   "metadata": {},
   "outputs": [],
   "source": []
  },
  {
   "cell_type": "code",
   "execution_count": null,
   "id": "a49384f8-ff2f-4a8d-b3c0-92d8452ace2e",
   "metadata": {},
   "outputs": [],
   "source": []
  },
  {
   "cell_type": "code",
   "execution_count": null,
   "id": "257aa50d-f57e-45ab-b692-142a2ef537df",
   "metadata": {},
   "outputs": [],
   "source": []
  }
 ],
 "metadata": {
  "kernelspec": {
   "display_name": "Python 3 (ipykernel)",
   "language": "python",
   "name": "python3"
  },
  "language_info": {
   "codemirror_mode": {
    "name": "ipython",
    "version": 3
   },
   "file_extension": ".py",
   "mimetype": "text/x-python",
   "name": "python",
   "nbconvert_exporter": "python",
   "pygments_lexer": "ipython3",
   "version": "3.11.5"
  }
 },
 "nbformat": 4,
 "nbformat_minor": 5
}
